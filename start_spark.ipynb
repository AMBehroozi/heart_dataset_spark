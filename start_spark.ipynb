{
 "cells": [
  {
   "cell_type": "code",
   "execution_count": null,
   "id": "76f8e7f2",
   "metadata": {},
   "outputs": [],
   "source": [
    "import sys\n",
    "import subprocess\n",
    "# Check if pyspark is installed, if not, install it\n",
    "try:\n",
    "    import pyspark\n",
    "    print(\"PySpark is already installed.\")\n",
    "except ImportError:\n",
    "    print(\"PySpark not found. Installing...\")\n",
    "    subprocess.check_call([sys.executable, \"-m\", \"pip\", \"install\", \"pyspark\"])\n",
    "    print(\"PySpark installed successfully.\")"
   ]
  },
  {
   "cell_type": "code",
   "execution_count": null,
   "id": "17832e30",
   "metadata": {},
   "outputs": [],
   "source": [
    "!gdown --id 1mnHABJPgkjhfwPpYWwn5LONVg31A0WWh"
   ]
  },
  {
   "cell_type": "code",
   "execution_count": 1,
   "id": "3419022c",
   "metadata": {},
   "outputs": [
    {
     "name": "stderr",
     "output_type": "stream",
     "text": [
      "WARNING: Using incubator modules: jdk.incubator.vector\n",
      "Using Spark's default log4j profile: org/apache/spark/log4j2-defaults.properties\n",
      "25/10/25 12:20:59 WARN Utils: Your hostname, mehdi, resolves to a loopback address: 127.0.1.1; using 10.0.0.157 instead (on interface wlxfc221c101da9)\n",
      "25/10/25 12:20:59 WARN Utils: Set SPARK_LOCAL_IP if you need to bind to another address\n",
      "Using Spark's default log4j profile: org/apache/spark/log4j2-defaults.properties\n",
      "Setting default log level to \"WARN\".\n",
      "To adjust logging level use sc.setLogLevel(newLevel). For SparkR, use setLogLevel(newLevel).\n",
      "25/10/25 12:21:00 WARN NativeCodeLoader: Unable to load native-hadoop library for your platform... using builtin-java classes where applicable\n"
     ]
    }
   ],
   "source": [
    "# creat a session spark\n",
    "from pyspark.sql import SparkSession\n",
    "\n",
    "\n",
    "spark = SparkSession.builder \\\n",
    "    .appName(\"test_session\") \\\n",
    "    .getOrCreate() "
   ]
  },
  {
   "cell_type": "code",
   "execution_count": 16,
   "id": "f938d353",
   "metadata": {},
   "outputs": [],
   "source": [
    "df_heart = spark.read.csv('heart.csv', header=True, inferSchema=True, nanValue='Nan')\n"
   ]
  },
  {
   "cell_type": "markdown",
   "id": "c775203a",
   "metadata": {},
   "source": [
    "# Data checks & EDA"
   ]
  },
  {
   "cell_type": "code",
   "execution_count": 17,
   "id": "8f632a94",
   "metadata": {},
   "outputs": [
    {
     "name": "stdout",
     "output_type": "stream",
     "text": [
      "root\n",
      " |-- Age: integer (nullable = true)\n",
      " |-- Sex: string (nullable = true)\n",
      " |-- ChestPainType: string (nullable = true)\n",
      " |-- RestingBP: integer (nullable = true)\n",
      " |-- Cholesterol: integer (nullable = true)\n",
      " |-- FastingBS: integer (nullable = true)\n",
      " |-- RestingECG: string (nullable = true)\n",
      " |-- MaxHR: integer (nullable = true)\n",
      " |-- ExerciseAngina: string (nullable = true)\n",
      " |-- Oldpeak: double (nullable = true)\n",
      " |-- ST_Slope: string (nullable = true)\n",
      " |-- HeartDisease: boolean (nullable = false)\n",
      "\n",
      "Dataset contains 918 rows and 12 columns\n"
     ]
    }
   ],
   "source": [
    "from pyspark.sql.functions import col, when\n",
    "\n",
    "# Convert HeartDisease column from integer to boolean\n",
    "\n",
    "df_heart = df_heart.withColumn(\n",
    "    \"HeartDisease\", \n",
    "    when(col(\"HeartDisease\") == 1, True).otherwise(False)\n",
    ")\n",
    "\n",
    "\n",
    "# Schema overview\n",
    "df_heart.printSchema()\n",
    "\n",
    "# Count rows and columns\n",
    "n_rows = df_heart.count()\n",
    "n_cols = len(df_heart.columns)\n",
    "print(f\"Dataset contains {n_rows} rows and {n_cols} columns\")\n"
   ]
  },
  {
   "cell_type": "markdown",
   "id": "ea5f631d",
   "metadata": {},
   "source": [
    "- Missing Values Audit"
   ]
  },
  {
   "cell_type": "code",
   "execution_count": 18,
   "id": "482ab64b",
   "metadata": {},
   "outputs": [
    {
     "name": "stdout",
     "output_type": "stream",
     "text": [
      "=== Missing (numeric) ===\n",
      "+---+---------+-----------+---------+-----+-------+\n",
      "|Age|RestingBP|Cholesterol|FastingBS|MaxHR|Oldpeak|\n",
      "+---+---------+-----------+---------+-----+-------+\n",
      "|0  |0        |0          |0        |0    |0      |\n",
      "+---+---------+-----------+---------+-----+-------+\n",
      "\n",
      "=== Missing (string) ===\n",
      "+---+-------------+----------+--------------+--------+\n",
      "|Sex|ChestPainType|RestingECG|ExerciseAngina|ST_Slope|\n",
      "+---+-------------+----------+--------------+--------+\n",
      "|0  |0            |0         |0             |0       |\n",
      "+---+-------------+----------+--------------+--------+\n",
      "\n",
      "=== Missing (boolean) ===\n",
      "+------------+\n",
      "|HeartDisease|\n",
      "+------------+\n",
      "|0           |\n",
      "+------------+\n",
      "\n",
      "+--------------+-------+---------+-----------+\n",
      "|column        |dtype  |n_missing|pct_missing|\n",
      "+--------------+-------+---------+-----------+\n",
      "|Age           |numeric|0        |0.0        |\n",
      "|ChestPainType |string |0        |0.0        |\n",
      "|Cholesterol   |numeric|0        |0.0        |\n",
      "|ExerciseAngina|string |0        |0.0        |\n",
      "|FastingBS     |numeric|0        |0.0        |\n",
      "|HeartDisease  |boolean|0        |0.0        |\n",
      "|MaxHR         |numeric|0        |0.0        |\n",
      "|Oldpeak       |numeric|0        |0.0        |\n",
      "|RestingBP     |numeric|0        |0.0        |\n",
      "|RestingECG    |string |0        |0.0        |\n",
      "|ST_Slope      |string |0        |0.0        |\n",
      "|Sex           |string |0        |0.0        |\n",
      "+--------------+-------+---------+-----------+\n",
      "\n"
     ]
    }
   ],
   "source": [
    "from pyspark.sql import functions as F\n",
    "\n",
    "# Split columns by dtype\n",
    "numeric_cols  = [c for c, t in df_heart.dtypes if t in (\"int\", \"double\", \"float\", \"bigint\")]\n",
    "string_cols   = [c for c, t in df_heart.dtypes if t == \"string\"]\n",
    "boolean_cols  = [c for c, t in df_heart.dtypes if t in (\"boolean\", \"bool\")]\n",
    "\n",
    "n_rows = df_heart.count()\n",
    "\n",
    "# Missing for numeric: null or NaN\n",
    "missing_numeric = df_heart.select([\n",
    "    F.sum(F.when(F.col(c).isNull() | F.isnan(F.col(c)), 1).otherwise(0)).alias(c)\n",
    "    for c in numeric_cols\n",
    "])\n",
    "\n",
    "# Missing for string: null, empty, or 'na'/'nan'\n",
    "missing_string = df_heart.select([\n",
    "    F.sum(\n",
    "        F.when(\n",
    "            F.col(c).isNull() |\n",
    "            (F.trim(F.col(c)) == \"\") |\n",
    "            (F.lower(F.trim(F.col(c))).isin(\"na\", \"nan\")),\n",
    "            1\n",
    "        ).otherwise(0)\n",
    "    ).alias(c)\n",
    "    for c in string_cols\n",
    "])\n",
    "\n",
    "# Missing for boolean: only null\n",
    "missing_boolean = df_heart.select([\n",
    "    F.sum(F.when(F.col(c).isNull(), 1).otherwise(0)).alias(c)\n",
    "    for c in boolean_cols\n",
    "])\n",
    "\n",
    "print(\"=== Missing (numeric) ===\")\n",
    "missing_numeric.show(truncate=False)\n",
    "\n",
    "print(\"=== Missing (string) ===\")\n",
    "missing_string.show(truncate=False)\n",
    "\n",
    "print(\"=== Missing (boolean) ===\")\n",
    "missing_boolean.show(truncate=False)\n",
    "\n",
    "# -------- Tidy combined report --------\n",
    "rows = []\n",
    "\n",
    "for c in numeric_cols:\n",
    "    cnt = missing_numeric.select(c).first()[0]\n",
    "    rows.append((c, \"numeric\", int(cnt), float(cnt)/n_rows))\n",
    "\n",
    "for c in string_cols:\n",
    "    cnt = missing_string.select(c).first()[0]\n",
    "    rows.append((c, \"string\", int(cnt), float(cnt)/n_rows))\n",
    "\n",
    "for c in boolean_cols:\n",
    "    cnt = missing_boolean.select(c).first()[0]\n",
    "    rows.append((c, \"boolean\", int(cnt), float(cnt)/n_rows))\n",
    "\n",
    "report_df = spark.createDataFrame(rows, [\"column\", \"dtype\", \"n_missing\", \"pct_missing\"])\n",
    "report_df.orderBy(F.desc(\"pct_missing\"), F.asc(\"column\")).show(truncate=False)\n"
   ]
  },
  {
   "cell_type": "markdown",
   "id": "cc5fd991",
   "metadata": {},
   "source": [
    "- Target Class Balance"
   ]
  },
  {
   "cell_type": "code",
   "execution_count": 19,
   "id": "d29848ae",
   "metadata": {},
   "outputs": [
    {
     "name": "stdout",
     "output_type": "stream",
     "text": [
      "+------------+-----+----------+\n",
      "|HeartDisease|count|Percentage|\n",
      "+------------+-----+----------+\n",
      "|        true|  508|     55.34|\n",
      "|       false|  410|     44.66|\n",
      "+------------+-----+----------+\n",
      "\n"
     ]
    }
   ],
   "source": [
    "from pyspark.sql import functions as F\n",
    "\n",
    "balance = (\n",
    "    df_heart.groupBy(\"HeartDisease\")\n",
    "    .count()\n",
    "    .withColumn(\"Percentage\", F.round((F.col(\"count\") / n_rows) * 100, 2))\n",
    ")\n",
    "balance.show()\n"
   ]
  },
  {
   "cell_type": "markdown",
   "id": "a55c0c19",
   "metadata": {},
   "source": [
    "- # Numeric Summary Statistics"
   ]
  },
  {
   "cell_type": "code",
   "execution_count": null,
   "id": "04ff3eb0",
   "metadata": {},
   "outputs": [
    {
     "name": "stderr",
     "output_type": "stream",
     "text": [
      "25/10/25 12:29:43 WARN SparkStringUtils: Truncated the string representation of a plan since it was too large. This behavior can be adjusted by setting 'spark.sql.debug.maxToStringFields'.\n"
     ]
    },
    {
     "name": "stdout",
     "output_type": "stream",
     "text": [
      "+-------+------------------+------------------+------------------+-------------------+------------------+------------------+\n",
      "|summary|Age               |RestingBP         |Cholesterol       |FastingBS          |MaxHR             |Oldpeak           |\n",
      "+-------+------------------+------------------+------------------+-------------------+------------------+------------------+\n",
      "|count  |918               |918               |918               |918                |918               |918               |\n",
      "|mean   |53.510893246187365|132.39651416122004|198.7995642701525 |0.23311546840958605|136.80936819172112|0.8873638344226581|\n",
      "|stddev |9.43261650673202  |18.514154119907808|109.38414455220345|0.42304562473930296|25.46033413825029 |1.0665701510493264|\n",
      "|min    |28                |0                 |0                 |0                  |60                |-2.6              |\n",
      "|max    |77                |200               |603               |1                  |202               |6.2               |\n",
      "+-------+------------------+------------------+------------------+-------------------+------------------+------------------+\n",
      "\n"
     ]
    }
   ],
   "source": [
    "umeric_cols = [c for c, t in df_heart.dtypes if t in (\"int\", \"double\")]\n",
    "\n",
    "df_heart.select(numeric_cols).describe().show(truncate=False)\n"
   ]
  },
  {
   "cell_type": "markdown",
   "id": "49a88a89",
   "metadata": {},
   "source": [
    "- Invalid physiological ranges"
   ]
  },
  {
   "cell_type": "code",
   "execution_count": null,
   "id": "64246d10",
   "metadata": {},
   "outputs": [
    {
     "name": "stdout",
     "output_type": "stream",
     "text": [
      "Invalid RestingBP values: 1\n",
      "Invalid Cholesterol values: 172\n",
      "+-------+-------+---------+---------+-----------+-----------+\n",
      "|min_Age|max_Age|min_MaxHR|max_MaxHR|min_Oldpeak|max_Oldpeak|\n",
      "+-------+-------+---------+---------+-----------+-----------+\n",
      "|     28|     77|       60|      202|       -2.6|        6.2|\n",
      "+-------+-------+---------+---------+-----------+-----------+\n",
      "\n"
     ]
    }
   ],
   "source": [
    "invalid_bp   = df_heart.filter(F.col(\"RestingBP\") <= 0).count()\n",
    "invalid_chol = df_heart.filter(F.col(\"Cholesterol\") <= 0).count()\n",
    "\n",
    "print(f\"Invalid RestingBP values: {invalid_bp}\")\n",
    "print(f\"Invalid Cholesterol values: {invalid_chol}\")\n",
    "\n",
    "# Quick range checks\n",
    "df_heart.selectExpr(\n",
    "    \"min(Age) as min_Age\", \"max(Age) as max_Age\",\n",
    "    \"min(MaxHR) as min_MaxHR\", \"max(MaxHR) as max_MaxHR\",\n",
    "    \"min(Oldpeak) as min_Oldpeak\", \"max(Oldpeak) as max_Oldpeak\"\n",
    ").show()\n"
   ]
  },
  {
   "cell_type": "markdown",
   "id": "7a3d0fdf",
   "metadata": {},
   "source": [
    "- Correlation analysis\n"
   ]
  },
  {
   "cell_type": "code",
   "execution_count": null,
   "id": "c1771721",
   "metadata": {},
   "outputs": [
    {
     "data": {
      "image/png": "[encoded data removed]",
      "text/plain": [
       "<Figure size 600x360 with 1 Axes>"
      ]
     },
     "metadata": {},
     "output_type": "display_data"
    }
   ],
   "source": [
    "\n",
    "import seaborn as sns\n",
    "import matplotlib.pyplot as plt\n",
    "from pyspark.sql import functions as F\n",
    "\n",
    "# Numeric label\n",
    "df_e = df_heart.withColumn(\"label\", F.col(\"HeartDisease\").cast(\"int\"))\n",
    "\n",
    "# Pick numeric features + label\n",
    "cols = [\"Age\", \"RestingBP\", \"Cholesterol\", \"MaxHR\", \"Oldpeak\", \"FastingBS\", \"label\"]\n",
    "\n",
    "# To pandas\n",
    "pdf = df_e.select(cols).toPandas()\n",
    "\n",
    "# Correlations with label only\n",
    "corr_with_label = (\n",
    "    pdf.corr()[[\"label\"]]\n",
    "       .drop(index=\"label\")                # drop label–label\n",
    "       .rename(columns={\"label\":\"corr\"})   # nicer name\n",
    "       .sort_values(\"corr\", ascending=False)\n",
    ")\n",
    "\n",
    "# Using corr_with_label from above\n",
    "corr_with_label[\"feature\"] = corr_with_label.index\n",
    "\n",
    "plt.figure(figsize=(6, 3.6))\n",
    "sns.barplot(data=corr_with_label, x=\"corr\", y=\"feature\", orient=\"h\")\n",
    "plt.title(\"Correlation with HeartDisease\")\n",
    "plt.xlabel(\"Pearson correlation\")\n",
    "plt.ylabel(\"\")\n",
    "plt.tight_layout()\n",
    "plt.show()\n"
   ]
  },
  {
   "cell_type": "markdown",
   "id": "1b8034ba",
   "metadata": {},
   "source": [
    "- Full correlation matrix"
   ]
  },
  {
   "cell_type": "code",
   "execution_count": null,
   "id": "e0243437",
   "metadata": {},
   "outputs": [
    {
     "data": {
      "image/png": "[encoded data removed]",
      "text/plain": [
       "<Figure size 800x600 with 2 Axes>"
      ]
     },
     "metadata": {},
     "output_type": "display_data"
    }
   ],
   "source": [
    "import seaborn as sns\n",
    "import matplotlib.pyplot as plt\n",
    "from pyspark.sql import functions as F\n",
    "\n",
    "# Add numeric label for correlations\n",
    "df_e = df_heart.withColumn(\"HeartDisease\", F.col(\"HeartDisease\").cast(\"int\"))\n",
    "\n",
    "# Select only numeric columns (including HeartDisease)\n",
    "numeric_cols = [\"Age\", \"RestingBP\", \"Cholesterol\", \"FastingBS\",\n",
    "                \"MaxHR\", \"Oldpeak\", \"HeartDisease\"]\n",
    "\n",
    "# Convert to pandas for plotting\n",
    "pdf = df_e.select(numeric_cols).toPandas()\n",
    "\n",
    "# Compute correlation matrix\n",
    "corr_matrix = pdf.corr(method=\"pearson\")\n",
    "\n",
    "# Plot heatmap\n",
    "plt.figure(figsize=(8,6))\n",
    "sns.heatmap(\n",
    "    corr_matrix, annot=True, fmt=\".2f\",\n",
    "    cmap=\"coolwarm\", square=True,\n",
    "    cbar_kws={\"shrink\": 0.8, \"label\": \"Correlation\"}\n",
    ")\n",
    "plt.title(\"Full Correlation Matrix – Heart Disease Dataset\")\n",
    "plt.tight_layout()\n",
    "plt.show()\n"
   ]
  },
  {
   "cell_type": "markdown",
   "id": "44fd7b58",
   "metadata": {},
   "source": [
    "- Target Class Balance"
   ]
  },
  {
   "cell_type": "code",
   "execution_count": null,
   "id": "9a65fe59",
   "metadata": {},
   "outputs": [
    {
     "name": "stdout",
     "output_type": "stream",
     "text": [
      "+-----+-----+-----+\n",
      "|label|count|  pct|\n",
      "+-----+-----+-----+\n",
      "|    0|  410|0.447|\n",
      "|    1|  508|0.553|\n",
      "+-----+-----+-----+\n",
      "\n"
     ]
    }
   ],
   "source": [
    "# \n",
    "from pyspark.sql import functions as F\n",
    "\n",
    "total = df_e.count()\n",
    "balance = (\n",
    "    df_e.groupBy(\"label\").count()\n",
    "        .withColumn(\"pct\", F.round(F.col(\"count\")/F.lit(total), 3))\n",
    "        .orderBy(\"label\")\n",
    ")\n",
    "balance.show()\n"
   ]
  },
  {
   "cell_type": "code",
   "execution_count": null,
   "id": "a47e9dcc",
   "metadata": {},
   "outputs": [
    {
     "name": "stdout",
     "output_type": "stream",
     "text": [
      "--- Age ---\n",
      "+-----+--------+-------+----------+-------+-------+\n",
      "|label|Age_mean|Age_std|Age_median|Age_p10|Age_p90|\n",
      "+-----+--------+-------+----------+-------+-------+\n",
      "|    1|    55.9|   8.73|        57|     43|     66|\n",
      "|    0|   50.55|   9.44|        51|     38|     63|\n",
      "+-----+--------+-------+----------+-------+-------+\n",
      "\n",
      "--- RestingBP ---\n",
      "+-----+--------------+-------------+----------------+-------------+-------------+\n",
      "|label|RestingBP_mean|RestingBP_std|RestingBP_median|RestingBP_p10|RestingBP_p90|\n",
      "+-----+--------------+-------------+----------------+-------------+-------------+\n",
      "|    1|        134.19|        19.83|             132|          110|          160|\n",
      "|    0|        130.18|         16.5|             130|          110|          150|\n",
      "+-----+--------------+-------------+----------------+-------------+-------------+\n",
      "\n",
      "--- Cholesterol ---\n",
      "+-----+----------------+---------------+------------------+---------------+---------------+\n",
      "|label|Cholesterol_mean|Cholesterol_std|Cholesterol_median|Cholesterol_p10|Cholesterol_p90|\n",
      "+-----+----------------+---------------+------------------+---------------+---------------+\n",
      "|    1|          175.94|         126.39|               217|              0|            305|\n",
      "|    0|          227.12|          74.63|               227|            165|            305|\n",
      "+-----+----------------+---------------+------------------+---------------+---------------+\n",
      "\n",
      "--- MaxHR ---\n",
      "+-----+----------+---------+------------+---------+---------+\n",
      "|label|MaxHR_mean|MaxHR_std|MaxHR_median|MaxHR_p10|MaxHR_p90|\n",
      "+-----+----------+---------+------------+---------+---------+\n",
      "|    1|    127.66|    23.39|         126|       98|      159|\n",
      "|    0|    148.15|    23.29|         150|      116|      178|\n",
      "+-----+----------+---------+------------+---------+---------+\n",
      "\n",
      "--- Oldpeak ---\n",
      "+-----+------------+-----------+--------------+-----------+-----------+\n",
      "|label|Oldpeak_mean|Oldpeak_std|Oldpeak_median|Oldpeak_p10|Oldpeak_p90|\n",
      "+-----+------------+-----------+--------------+-----------+-----------+\n",
      "|    1|        1.27|       1.15|           1.2|        0.0|        3.0|\n",
      "|    0|        0.41|        0.7|           0.0|        0.0|        1.5|\n",
      "+-----+------------+-----------+--------------+-----------+-----------+\n",
      "\n",
      "--- FastingBS ---\n",
      "+-----+--------------+-------------+----------------+-------------+-------------+\n",
      "|label|FastingBS_mean|FastingBS_std|FastingBS_median|FastingBS_p10|FastingBS_p90|\n",
      "+-----+--------------+-------------+----------------+-------------+-------------+\n",
      "|    1|          0.33|         0.47|               0|            0|            1|\n",
      "|    0|          0.11|         0.31|               0|            0|            1|\n",
      "+-----+--------------+-------------+----------------+-------------+-------------+\n",
      "\n"
     ]
    }
   ],
   "source": [
    "# \n",
    "num_cols = [\"Age\",\"RestingBP\",\"Cholesterol\",\"MaxHR\",\"Oldpeak\",\"FastingBS\"]\n",
    "\n",
    "stats = []\n",
    "for c in num_cols:\n",
    "    s = (df_e.groupBy(\"label\")\n",
    "            .agg(\n",
    "                F.round(F.mean(c),2).alias(f\"{c}_mean\"),\n",
    "                F.round(F.stddev(c),2).alias(f\"{c}_std\"),\n",
    "                F.expr(f\"percentile_approx({c}, 0.5)\").alias(f\"{c}_median\"),\n",
    "                F.expr(f\"percentile_approx({c}, 0.1)\").alias(f\"{c}_p10\"),\n",
    "                F.expr(f\"percentile_approx({c}, 0.9)\").alias(f\"{c}_p90\"),\n",
    "            ))\n",
    "    print(f\"--- {c} ---\")\n",
    "    s.show()\n"
   ]
  },
  {
   "cell_type": "code",
   "execution_count": 33,
   "id": "63aedcdd",
   "metadata": {},
   "outputs": [
    {
     "name": "stdout",
     "output_type": "stream",
     "text": [
      "+---------+---+---+\n",
      "|Sex_label|  0|  1|\n",
      "+---------+---+---+\n",
      "|        F|143| 50|\n",
      "|        M|267|458|\n",
      "+---------+---+---+\n",
      "\n",
      "+-------------------+---+---+\n",
      "|ChestPainType_label|  0|  1|\n",
      "+-------------------+---+---+\n",
      "|                NAP|131| 72|\n",
      "|                ATA|149| 24|\n",
      "|                 TA| 26| 20|\n",
      "|                ASY|104|392|\n",
      "+-------------------+---+---+\n",
      "\n"
     ]
    }
   ],
   "source": [
    "df_e.crosstab(\"Sex\", \"label\").show()            # Sex vs HeartDisease\n",
    "df_e.crosstab(\"ChestPainType\", \"label\").show()  # ChestPainType vs HeartDisease\n"
   ]
  },
  {
   "cell_type": "markdown",
   "id": "2762175e",
   "metadata": {},
   "source": [
    "- Distribution Visualization"
   ]
  },
  {
   "cell_type": "code",
   "execution_count": null,
   "id": "55891576",
   "metadata": {},
   "outputs": [
    {
     "data": {
      "image/png": "[encoded data removed]",
      "text/plain": [
       "<Figure size 640x480 with 1 Axes>"
      ]
     },
     "metadata": {},
     "output_type": "display_data"
    }
   ],
   "source": [
    "# \n",
    "pdf = df_heart.sample(fraction=0.3, seed=42).toPandas()\n",
    "\n",
    "import seaborn as sns\n",
    "import matplotlib.pyplot as plt\n",
    "\n",
    "# Histogram for Age\n",
    "sns.histplot(pdf, x=\"Age\", hue=\"HeartDisease\", bins=20, kde=True)\n",
    "plt.title(\"Age Distribution by Heart Disease\")\n",
    "\n",
    "# MaxHR\n",
    "sns.histplot(pdf, x=\"MaxHR\", hue=\"HeartDisease\", bins=20, kde=True)\n",
    "plt.title(\"Maximum Heart Rate vs Disease\")\n",
    "\n",
    "# Chest Pain Types\n",
    "sns.countplot(data=pdf, x=\"ChestPainType\", hue=\"HeartDisease\")\n",
    "plt.title(\"Chest Pain Type by Disease Presence\")\n",
    "\n",
    "plt.tight_layout()\n",
    "plt.show()\n"
   ]
  },
  {
   "cell_type": "markdown",
   "id": "1ea73396",
   "metadata": {},
   "source": [
    "# Feature engineering"
   ]
  },
  {
   "cell_type": "markdown",
   "id": "78dbfa0c",
   "metadata": {},
   "source": [
    "- Identify Feature Types"
   ]
  },
  {
   "cell_type": "code",
   "execution_count": 45,
   "id": "04d24579",
   "metadata": {},
   "outputs": [],
   "source": [
    "# Numerical and categorical features\n",
    "numeric_cols = [\"Age\", \"RestingBP\", \"Cholesterol\", \"FastingBS\", \"MaxHR\", \"Oldpeak\"]\n",
    "categorical_cols = [\"Sex\", \"ChestPainType\", \"RestingECG\", \"ExerciseAngina\", \"ST_Slope\"]\n",
    "\n",
    "label_col = \"HeartDisease\"\n"
   ]
  },
  {
   "cell_type": "markdown",
   "id": "aadc4c1f",
   "metadata": {},
   "source": [
    "- Encode Categorical Variables"
   ]
  },
  {
   "cell_type": "code",
   "execution_count": 46,
   "id": "406d2bca",
   "metadata": {},
   "outputs": [],
   "source": [
    "from pyspark.ml.feature import StringIndexer, OneHotEncoder\n",
    "\n",
    "# Index categorical columns\n",
    "indexers = [\n",
    "    StringIndexer(inputCol=c, outputCol=c + \"_index\", handleInvalid=\"keep\")\n",
    "    for c in categorical_cols\n",
    "]\n",
    "\n",
    "# One-hot encode indexed columns\n",
    "encoders = [\n",
    "    OneHotEncoder(inputCols=[c + \"_index\"], outputCols=[c + \"_vec\"])\n",
    "    for c in categorical_cols\n",
    "]\n"
   ]
  },
  {
   "cell_type": "markdown",
   "id": "c088b794",
   "metadata": {},
   "source": [
    "- Scale Numerical Columns"
   ]
  },
  {
   "cell_type": "code",
   "execution_count": 48,
   "id": "294e94be",
   "metadata": {},
   "outputs": [],
   "source": [
    "from pyspark.ml.feature import VectorAssembler, StandardScaler\n",
    "\n",
    "# Assemble numeric columns\n",
    "assembler_num = VectorAssembler(inputCols=numeric_cols, outputCol=\"num_features\")\n",
    "\n",
    "# Scale them\n",
    "scaler = StandardScaler(inputCol=\"num_features\", outputCol=\"scaled_features\", withMean=True, withStd=True)\n"
   ]
  },
  {
   "cell_type": "markdown",
   "id": "b00eeb8f",
   "metadata": {},
   "source": [
    "- Assemble Final Feature Vector"
   ]
  },
  {
   "cell_type": "code",
   "execution_count": 49,
   "id": "1db568d1",
   "metadata": {},
   "outputs": [],
   "source": [
    "# Collect all feature columns\n",
    "encoded_vecs = [c + \"_vec\" for c in categorical_cols]\n",
    "\n",
    "assembler_all = VectorAssembler(\n",
    "    inputCols=[\"scaled_features\"] + encoded_vecs,\n",
    "    outputCol=\"features\"\n",
    ")\n"
   ]
  },
  {
   "cell_type": "markdown",
   "id": "a60262c9",
   "metadata": {},
   "source": [
    "- Build Full Feature Engineering Pipeline"
   ]
  },
  {
   "cell_type": "code",
   "execution_count": 50,
   "id": "24004256",
   "metadata": {},
   "outputs": [
    {
     "name": "stdout",
     "output_type": "stream",
     "text": [
      "+----------------------------------------------------------------------------------------------------------------------------------------------------------------------------+------------+\n",
      "|features                                                                                                                                                                    |HeartDisease|\n",
      "+----------------------------------------------------------------------------------------------------------------------------------------------------------------------------+------------+\n",
      "|(20,[0,1,2,3,4,5,6,10,12,15,18],[-1.4323590105189428,0.41068502452423855,0.8246207537583257,-0.551040962906166,1.382174782828565,-0.8319788750413103,1.0,1.0,1.0,1.0,1.0])  |false       |\n",
      "|(20,[0,1,2,3,4,5,7,9,12,15,17],[-0.4782229027298965,1.490939616252763,-0.17186736109802728,-0.551040962906166,0.7537462668036152,0.10560596081422916,1.0,1.0,1.0,1.0,1.0])  |true        |\n",
      "|(20,[0,1,2,3,4,5,6,10,14,15,18],[-1.7504043797819582,-0.12944227134002367,0.7697681969772421,-0.551040962906166,-1.524307103786828,-0.8319788750413103,1.0,1.0,1.0,1.0,1.0])|false       |\n",
      "+----------------------------------------------------------------------------------------------------------------------------------------------------------------------------+------------+\n",
      "only showing top 3 rows\n"
     ]
    }
   ],
   "source": [
    "from pyspark.ml import Pipeline\n",
    "\n",
    "stages = indexers + encoders + [assembler_num, scaler, assembler_all]\n",
    "pipeline = Pipeline(stages=stages)\n",
    "\n",
    "# Fit + transform the dataset\n",
    "df_prepared = pipeline.fit(df_heart).transform(df_heart)\n",
    "\n",
    "# Verify\n",
    "df_prepared.select(\"features\", \"HeartDisease\").show(3, truncate=False)\n"
   ]
  },
  {
   "cell_type": "markdown",
   "id": "484c1a65",
   "metadata": {},
   "source": [
    "- Split Data"
   ]
  },
  {
   "cell_type": "code",
   "execution_count": 52,
   "id": "30446b0c",
   "metadata": {},
   "outputs": [
    {
     "name": "stdout",
     "output_type": "stream",
     "text": [
      "Train size: 769 | Test size: 149\n"
     ]
    }
   ],
   "source": [
    "train_df, test_df = df_prepared.randomSplit([0.8, 0.2], seed=42)\n",
    "print(f\"Train size: {train_df.count()} | Test size: {test_df.count()}\")\n"
   ]
  },
  {
   "cell_type": "markdown",
   "id": "ffe7a64e",
   "metadata": {},
   "source": [
    "# Logistic Regression (Baseline)"
   ]
  },
  {
   "cell_type": "code",
   "execution_count": 53,
   "id": "e5600bc7",
   "metadata": {},
   "outputs": [
    {
     "ename": "IllegalArgumentException",
     "evalue": "requirement failed: Column HeartDisease must be of type numeric but was actually of type boolean.",
     "output_type": "error",
     "traceback": [
      "\u001b[31m---------------------------------------------------------------------------\u001b[39m",
      "\u001b[31mIllegalArgumentException\u001b[39m                  Traceback (most recent call last)",
      "\u001b[36mCell\u001b[39m\u001b[36m \u001b[39m\u001b[32mIn[53]\u001b[39m\u001b[32m, line 14\u001b[39m\n\u001b[32m      5\u001b[39m lr = LogisticRegression(\n\u001b[32m      6\u001b[39m     labelCol=\u001b[33m\"\u001b[39m\u001b[33mHeartDisease\u001b[39m\u001b[33m\"\u001b[39m,\n\u001b[32m      7\u001b[39m     featuresCol=\u001b[33m\"\u001b[39m\u001b[33mfeatures\u001b[39m\u001b[33m\"\u001b[39m,\n\u001b[32m   (...)\u001b[39m\u001b[32m     10\u001b[39m     maxIter=\u001b[32m100\u001b[39m\n\u001b[32m     11\u001b[39m )\n\u001b[32m     13\u001b[39m \u001b[38;5;66;03m# Train\u001b[39;00m\n\u001b[32m---> \u001b[39m\u001b[32m14\u001b[39m lr_model = \u001b[43mlr\u001b[49m\u001b[43m.\u001b[49m\u001b[43mfit\u001b[49m\u001b[43m(\u001b[49m\u001b[43mtrain_df\u001b[49m\u001b[43m)\u001b[49m\n\u001b[32m     16\u001b[39m \u001b[38;5;66;03m# Evaluate\u001b[39;00m\n\u001b[32m     17\u001b[39m pred_lr = lr_model.transform(test_df)\n",
      "\u001b[36mFile \u001b[39m\u001b[32m~/miniconda3/envs/data/lib/python3.12/site-packages/pyspark/ml/base.py:203\u001b[39m, in \u001b[36mEstimator.fit\u001b[39m\u001b[34m(self, dataset, params)\u001b[39m\n\u001b[32m    201\u001b[39m         \u001b[38;5;28;01mreturn\u001b[39;00m \u001b[38;5;28mself\u001b[39m.copy(params)._fit(dataset)\n\u001b[32m    202\u001b[39m     \u001b[38;5;28;01melse\u001b[39;00m:\n\u001b[32m--> \u001b[39m\u001b[32m203\u001b[39m         \u001b[38;5;28;01mreturn\u001b[39;00m \u001b[38;5;28;43mself\u001b[39;49m\u001b[43m.\u001b[49m\u001b[43m_fit\u001b[49m\u001b[43m(\u001b[49m\u001b[43mdataset\u001b[49m\u001b[43m)\u001b[49m\n\u001b[32m    204\u001b[39m \u001b[38;5;28;01melse\u001b[39;00m:\n\u001b[32m    205\u001b[39m     \u001b[38;5;28;01mraise\u001b[39;00m \u001b[38;5;167;01mTypeError\u001b[39;00m(\n\u001b[32m    206\u001b[39m         \u001b[33m\"\u001b[39m\u001b[33mParams must be either a param map or a list/tuple of param maps, \u001b[39m\u001b[33m\"\u001b[39m\n\u001b[32m    207\u001b[39m         \u001b[33m\"\u001b[39m\u001b[33mbut got \u001b[39m\u001b[38;5;132;01m%s\u001b[39;00m\u001b[33m.\u001b[39m\u001b[33m\"\u001b[39m % \u001b[38;5;28mtype\u001b[39m(params)\n\u001b[32m    208\u001b[39m     )\n",
      "\u001b[36mFile \u001b[39m\u001b[32m~/miniconda3/envs/data/lib/python3.12/site-packages/pyspark/ml/util.py:164\u001b[39m, in \u001b[36mtry_remote_fit.<locals>.wrapped\u001b[39m\u001b[34m(self, dataset)\u001b[39m\n\u001b[32m    162\u001b[39m     \u001b[38;5;28;01mreturn\u001b[39;00m \u001b[38;5;28mself\u001b[39m._copyValues(model)\n\u001b[32m    163\u001b[39m \u001b[38;5;28;01melse\u001b[39;00m:\n\u001b[32m--> \u001b[39m\u001b[32m164\u001b[39m     \u001b[38;5;28;01mreturn\u001b[39;00m \u001b[43mf\u001b[49m\u001b[43m(\u001b[49m\u001b[38;5;28;43mself\u001b[39;49m\u001b[43m,\u001b[49m\u001b[43m \u001b[49m\u001b[43mdataset\u001b[49m\u001b[43m)\u001b[49m\n",
      "\u001b[36mFile \u001b[39m\u001b[32m~/miniconda3/envs/data/lib/python3.12/site-packages/pyspark/ml/wrapper.py:411\u001b[39m, in \u001b[36mJavaEstimator._fit\u001b[39m\u001b[34m(self, dataset)\u001b[39m\n\u001b[32m    409\u001b[39m \u001b[38;5;129m@try_remote_fit\u001b[39m\n\u001b[32m    410\u001b[39m \u001b[38;5;28;01mdef\u001b[39;00m\u001b[38;5;250m \u001b[39m\u001b[34m_fit\u001b[39m(\u001b[38;5;28mself\u001b[39m, dataset: DataFrame) -> JM:\n\u001b[32m--> \u001b[39m\u001b[32m411\u001b[39m     java_model = \u001b[38;5;28;43mself\u001b[39;49m\u001b[43m.\u001b[49m\u001b[43m_fit_java\u001b[49m\u001b[43m(\u001b[49m\u001b[43mdataset\u001b[49m\u001b[43m)\u001b[49m\n\u001b[32m    412\u001b[39m     model = \u001b[38;5;28mself\u001b[39m._create_model(java_model)\n\u001b[32m    413\u001b[39m     \u001b[38;5;28;01mreturn\u001b[39;00m \u001b[38;5;28mself\u001b[39m._copyValues(model)\n",
      "\u001b[36mFile \u001b[39m\u001b[32m~/miniconda3/envs/data/lib/python3.12/site-packages/pyspark/ml/wrapper.py:407\u001b[39m, in \u001b[36mJavaEstimator._fit_java\u001b[39m\u001b[34m(self, dataset)\u001b[39m\n\u001b[32m    404\u001b[39m \u001b[38;5;28;01massert\u001b[39;00m \u001b[38;5;28mself\u001b[39m._java_obj \u001b[38;5;129;01mis\u001b[39;00m \u001b[38;5;129;01mnot\u001b[39;00m \u001b[38;5;28;01mNone\u001b[39;00m\n\u001b[32m    406\u001b[39m \u001b[38;5;28mself\u001b[39m._transfer_params_to_java()\n\u001b[32m--> \u001b[39m\u001b[32m407\u001b[39m \u001b[38;5;28;01mreturn\u001b[39;00m \u001b[38;5;28;43mself\u001b[39;49m\u001b[43m.\u001b[49m\u001b[43m_java_obj\u001b[49m\u001b[43m.\u001b[49m\u001b[43mfit\u001b[49m\u001b[43m(\u001b[49m\u001b[43mdataset\u001b[49m\u001b[43m.\u001b[49m\u001b[43m_jdf\u001b[49m\u001b[43m)\u001b[49m\n",
      "\u001b[36mFile \u001b[39m\u001b[32m~/miniconda3/envs/data/lib/python3.12/site-packages/py4j/java_gateway.py:1362\u001b[39m, in \u001b[36mJavaMember.__call__\u001b[39m\u001b[34m(self, *args)\u001b[39m\n\u001b[32m   1356\u001b[39m command = proto.CALL_COMMAND_NAME +\\\n\u001b[32m   1357\u001b[39m     \u001b[38;5;28mself\u001b[39m.command_header +\\\n\u001b[32m   1358\u001b[39m     args_command +\\\n\u001b[32m   1359\u001b[39m     proto.END_COMMAND_PART\n\u001b[32m   1361\u001b[39m answer = \u001b[38;5;28mself\u001b[39m.gateway_client.send_command(command)\n\u001b[32m-> \u001b[39m\u001b[32m1362\u001b[39m return_value = \u001b[43mget_return_value\u001b[49m\u001b[43m(\u001b[49m\n\u001b[32m   1363\u001b[39m \u001b[43m    \u001b[49m\u001b[43manswer\u001b[49m\u001b[43m,\u001b[49m\u001b[43m \u001b[49m\u001b[38;5;28;43mself\u001b[39;49m\u001b[43m.\u001b[49m\u001b[43mgateway_client\u001b[49m\u001b[43m,\u001b[49m\u001b[43m \u001b[49m\u001b[38;5;28;43mself\u001b[39;49m\u001b[43m.\u001b[49m\u001b[43mtarget_id\u001b[49m\u001b[43m,\u001b[49m\u001b[43m \u001b[49m\u001b[38;5;28;43mself\u001b[39;49m\u001b[43m.\u001b[49m\u001b[43mname\u001b[49m\u001b[43m)\u001b[49m\n\u001b[32m   1365\u001b[39m \u001b[38;5;28;01mfor\u001b[39;00m temp_arg \u001b[38;5;129;01min\u001b[39;00m temp_args:\n\u001b[32m   1366\u001b[39m     \u001b[38;5;28;01mif\u001b[39;00m \u001b[38;5;28mhasattr\u001b[39m(temp_arg, \u001b[33m\"\u001b[39m\u001b[33m_detach\u001b[39m\u001b[33m\"\u001b[39m):\n",
      "\u001b[36mFile \u001b[39m\u001b[32m~/miniconda3/envs/data/lib/python3.12/site-packages/pyspark/errors/exceptions/captured.py:288\u001b[39m, in \u001b[36mcapture_sql_exception.<locals>.deco\u001b[39m\u001b[34m(*a, **kw)\u001b[39m\n\u001b[32m    284\u001b[39m converted = convert_exception(e.java_exception)\n\u001b[32m    285\u001b[39m \u001b[38;5;28;01mif\u001b[39;00m \u001b[38;5;129;01mnot\u001b[39;00m \u001b[38;5;28misinstance\u001b[39m(converted, UnknownException):\n\u001b[32m    286\u001b[39m     \u001b[38;5;66;03m# Hide where the exception came from that shows a non-Pythonic\u001b[39;00m\n\u001b[32m    287\u001b[39m     \u001b[38;5;66;03m# JVM exception message.\u001b[39;00m\n\u001b[32m--> \u001b[39m\u001b[32m288\u001b[39m     \u001b[38;5;28;01mraise\u001b[39;00m converted \u001b[38;5;28;01mfrom\u001b[39;00m\u001b[38;5;250m \u001b[39m\u001b[38;5;28;01mNone\u001b[39;00m\n\u001b[32m    289\u001b[39m \u001b[38;5;28;01melse\u001b[39;00m:\n\u001b[32m    290\u001b[39m     \u001b[38;5;28;01mraise\u001b[39;00m\n",
      "\u001b[31mIllegalArgumentException\u001b[39m: requirement failed: Column HeartDisease must be of type numeric but was actually of type boolean."
     ]
    }
   ],
   "source": [
    "from pyspark.ml.classification import LogisticRegression\n",
    "from pyspark.ml.evaluation import BinaryClassificationEvaluator\n",
    "\n",
    "# Initialize model\n",
    "lr = LogisticRegression(\n",
    "    labelCol=\"HeartDisease\",\n",
    "    featuresCol=\"features\",\n",
    "    elasticNetParam=0.5,   # 0=L2, 1=L1\n",
    "    regParam=0.05,\n",
    "    maxIter=100\n",
    ")\n",
    "\n",
    "# Train\n",
    "lr_model = lr.fit(train_df)\n",
    "\n",
    "# Evaluate\n",
    "pred_lr = lr_model.transform(test_df)\n",
    "evaluator = BinaryClassificationEvaluator(labelCol=\"HeartDisease\", metricName=\"areaUnderROC\")\n",
    "roc_lr = evaluator.evaluate(pred_lr)\n",
    "print(f\"Logistic Regression AUC = {roc_lr:.3f}\")\n"
   ]
  },
  {
   "cell_type": "markdown",
   "id": "84fc5367",
   "metadata": {},
   "source": []
  }
 ],
 "metadata": {
  "kernelspec": {
   "display_name": "data",
   "language": "python",
   "name": "python3"
  },
  "language_info": {
   "codemirror_mode": {
    "name": "ipython",
    "version": 3
   },
   "file_extension": ".py",
   "mimetype": "text/x-python",
   "name": "python",
   "nbconvert_exporter": "python",
   "pygments_lexer": "ipython3",
   "version": "3.12.3"
  }
 },
 "nbformat": 4,
 "nbformat_minor": 5
}
